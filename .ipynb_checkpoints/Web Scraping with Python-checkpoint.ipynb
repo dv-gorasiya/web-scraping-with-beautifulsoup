{
 "cells": [
  {
   "cell_type": "markdown",
   "metadata": {},
   "source": [
    "# Web Scraping with Python\n",
    "\n",
    "## Extracting details of European parliament members from europarl query result.\n",
    "\n",
    "### *> Import all the required packages."
   ]
  },
  {
   "cell_type": "code",
   "execution_count": 32,
   "metadata": {},
   "outputs": [],
   "source": [
    "from bs4 import BeautifulSoup\n",
    "import requests\n",
    "import os"
   ]
  },
  {
   "cell_type": "markdown",
   "metadata": {},
   "source": [
    "### *> Setup required variables."
   ]
  },
  {
   "cell_type": "code",
   "execution_count": 33,
   "metadata": {},
   "outputs": [],
   "source": [
    "MSTR_OUT_PATH='C:/Users/darsh/'\n",
    "OUT_FL_NAM='EuropeanParliamentMembers.csv'\n",
    "\n",
    "EU_URL = requests.get(\"http://www.europarl.europa.eu/meps/en/full-list/all\").text\n",
    "html_soup = BeautifulSoup(EU_URL, 'html.parser') "
   ]
  },
  {
   "cell_type": "markdown",
   "metadata": {},
   "source": [
    "### *> Pulling divs from extracted html page for member details"
   ]
  },
  {
   "cell_type": "code",
   "execution_count": 34,
   "metadata": {},
   "outputs": [],
   "source": [
    "layout_country = html_soup.find_all('div', class_ = 'ep-p_text ep-layout_country')\n",
    "member_nam = html_soup.find_all('span', class_ = 'ep_name member-name')\n",
    "layout_group = html_soup.find_all('div', class_ = 'ep-p_text ep-layout_group')\n",
    "layout_party = html_soup.find_all('div', class_ = 'ep-p_text ep-layout_party')\n",
    "eu_ittr=0"
   ]
  },
  {
   "cell_type": "markdown",
   "metadata": {},
   "source": [
    "### *> Cleaning and opening a file for dumping required data."
   ]
  },
  {
   "cell_type": "code",
   "execution_count": 35,
   "metadata": {},
   "outputs": [
    {
     "data": {
      "text/plain": [
       "27"
      ]
     },
     "execution_count": 35,
     "metadata": {},
     "output_type": "execute_result"
    }
   ],
   "source": [
    "if os.path.exists(MSTR_OUT_PATH+OUT_FL_NAM):\n",
    "    os.remove(MSTR_OUT_PATH+OUT_FL_NAM)\n",
    "\n",
    "EU_ParlLoader = open(MSTR_OUT_PATH+OUT_FL_NAM, 'a',encoding=\"utf-8\")\n",
    "EU_ParlLoader.write(\"Country,Member_nam,EU_group\") "
   ]
  },
  {
   "cell_type": "markdown",
   "metadata": {},
   "source": [
    "### *> Looping through content to extract required data and write it to a text file."
   ]
  },
  {
   "cell_type": "code",
   "execution_count": 36,
   "metadata": {},
   "outputs": [],
   "source": [
    "while eu_ittr < len(layout_country):\n",
    "    EU_ParlLoader.write('\\n'+str(layout_country[eu_ittr].span.text).replace(\"Czechia\",\"Czech Republic\")+\",\"+member_nam[eu_ittr].text+\",\"+layout_group[eu_ittr].span.text) \n",
    "    eu_ittr=eu_ittr+1"
   ]
  },
  {
   "cell_type": "markdown",
   "metadata": {},
   "source": [
    "### *> Data has been written to file, time to close an open file."
   ]
  },
  {
   "cell_type": "code",
   "execution_count": 37,
   "metadata": {},
   "outputs": [],
   "source": [
    "EU_ParlLoader.close()"
   ]
  },
  {
   "cell_type": "code",
   "execution_count": 38,
   "metadata": {},
   "outputs": [
    {
     "name": "stdout",
     "output_type": "stream",
     "text": [
      "Country,Member_nam,EU_group\n",
      "Poland,Magdalena ADAMOWICZ,Group of the European People's Party (Christian Democrats)\n",
      "Bulgaria,Asim ADEMOV,Group of the European People's Party (Christian Democrats)\n",
      "Italy,Isabella ADINOLFI,Non-attached Members\n",
      "Italy,Matteo ADINOLFI,Identity and Democracy Group\n",
      "Malta,Alex AGIUS SALIBA,Group of the Progressive Alliance of Socialists and Democrats in the European Parliament\n",
      "Spain,Mazaly AGUILAR,European Conservatives and Reformists Group\n",
      "Spain,Clara AGUILERA,Group of the Progressive Alliance of Socialists and Democrats in the European Parliament\n",
      "United Kingdom,Scott AINSLIE,Group of the Greens/European Free Alliance\n",
      "Sweden,Abir AL-SAHLANI,Renew Europe Group\n",
      "Bulgaria,Alexander ALEXANDROV YORDANOV,Group of the European People's Party (Christian Democrats)\n",
      "Latvia,Andris AMERIKS,Group of the Progressive Alliance of Socialists and Democrats in the European Parliament\n",
      "Germany,Christine ANDERSON,Identity and Democracy Group\n",
      "United Kingdom,Martina ANDERSON,Confederal Group of the European United Left - Nordic Green Left\n",
      "Germany,Rasmus ANDRESEN,Group of the Greens/European Free Alliance\n",
      "France,Eric ANDRIEU,Group of the Progressive Alliance of Socialists and Democrats in the European Parliament\n",
      "France,Mathilde ANDROUÃ‹T,Identity and Democracy Group\n",
      "Greece,Nikos ANDROULAKIS,Group of the Progressive Alliance of Socialists and Democrats in the European Parliament\n",
      "Belgium,Gerolf ANNEMANS,Identity and Democracy Group\n",
      "Estonia,Andrus ANSIP,Renew Europe Group\n",
      "Hungary,Attila ARA-KOVÃ�CS,Group of the Progressive Alliance of Socialists and Democrats in the European Parliament\n",
      "Belgium,Maria ARENA,Group of the Progressive Alliance of Socialists and Democrats in the European Parliament\n",
      "Spain,Pablo ARIAS ECHEVERRÃ�A,Group of the European People's Party (Christian Democrats)\n",
      "Belgium,Pascal ARIMONT,Group of the European People's Party (Christian Democrats)\n",
      "Poland,Bartosz ARÅ�UKOWICZ,Group of the European People's Party (Christian Democrats)\n",
      "Romania,Clotilde ARMAND,Renew Europe Group\n",
      "Greece,Konstantinos ARVANITIS,Confederal Group of the European United Left - Nordic Green Left\n",
      "Greece,Anna-Michelle ASIMAKOPOULOU,Group of the European People's Party (Christian Democrats)\n",
      "France,Manon AUBRY,Confederal Group of the European United Left - Nordic Green Left\n",
      "Denmark,Margrete AUKEN,Group of the Greens/European Free Alliance\n",
      "Lithuania,Petras AUÅ TREVIÄŒIUS,Renew Europe Group\n",
      "Romania,Carmen AVRAM,Group of the Progressive Alliance of Socialists and Democrats in the European Parliament\n",
      "Netherlands,Malik AZMANI,Renew Europe Group\n",
      "Slovenia,Milan ZVER,Group of the European People's Party (Christian Democrats)\n"
     ]
    }
   ],
   "source": [
    "!type C:\\Users\\darsh\\EuropeanParliamentMembers.csv"
   ]
  }
 ],
 "metadata": {
  "kernelspec": {
   "display_name": "Python 3",
   "language": "python",
   "name": "python3"
  },
  "language_info": {
   "codemirror_mode": {
    "name": "ipython",
    "version": 3
   },
   "file_extension": ".py",
   "mimetype": "text/x-python",
   "name": "python",
   "nbconvert_exporter": "python",
   "pygments_lexer": "ipython3",
   "version": "3.7.3"
  }
 },
 "nbformat": 4,
 "nbformat_minor": 2
}
